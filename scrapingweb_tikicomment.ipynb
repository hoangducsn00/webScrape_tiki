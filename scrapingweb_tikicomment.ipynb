{
  "nbformat": 4,
  "nbformat_minor": 0,
  "metadata": {
    "colab": {
      "name": "scrapingweb_tikicomment.ipynb",
      "provenance": [],
      "mount_file_id": "1F3rWI40qIE1ZZQMOaSI5jOuUM1C6hhaa",
      "authorship_tag": "ABX9TyN1DGDZVnM6M5RbHyYfZqFo",
      "include_colab_link": true
    },
    "kernelspec": {
      "name": "python3",
      "display_name": "Python 3"
    },
    "accelerator": "GPU"
  },
  "cells": [
    {
      "cell_type": "markdown",
      "metadata": {
        "id": "view-in-github",
        "colab_type": "text"
      },
      "source": [
        "<a href=\"https://colab.research.google.com/github/hoangducsn00/webScrape_tiki/blob/main/scrapingweb_tikicomment.ipynb\" target=\"_parent\"><img src=\"https://colab.research.google.com/assets/colab-badge.svg\" alt=\"Open In Colab\"/></a>"
      ]
    },
    {
      "cell_type": "code",
      "metadata": {
        "id": "d-V16xjL24Y-",
        "outputId": "17a19fbe-0329-465f-b9b6-d9a831ee7ff5",
        "colab": {
          "base_uri": "https://localhost:8080/",
          "height": 87
        }
      },
      "source": [
        "%cd /content/drive/My Drive/devC/clone_data\n",
        "!ls"
      ],
      "execution_count": null,
      "outputs": [
        {
          "output_type": "stream",
          "text": [
            "/content/drive/My Drive/devC/clone_data\n",
            " crawl-tiki-products  ' SCRAPE DYNAMIC websites.ipynb'\n",
            " data\t\t       scrapingweb_tikicomment.ipynb\n",
            " data_comment_tiki\n"
          ],
          "name": "stdout"
        }
      ]
    },
    {
      "cell_type": "code",
      "metadata": {
        "id": "9Uq37SA459Is"
      },
      "source": [
        "#import library\n",
        "from bs4 import BeautifulSoup\n",
        "import requests\n",
        "import json\n",
        "import csv\n",
        "import pandas as pd\n",
        "import urllib, json"
      ],
      "execution_count": null,
      "outputs": []
    },
    {
      "cell_type": "code",
      "metadata": {
        "id": "vfX5RCil6XjY"
      },
      "source": [
        "names = ['-2015', '-2016', '-2017', '-2018', '-2019', '-month', '']"
      ],
      "execution_count": null,
      "outputs": []
    },
    {
      "cell_type": "code",
      "metadata": {
        "id": "xr9JJabnYPCQ"
      },
      "source": [
        "names = ['chamsocdamat']"
      ],
      "execution_count": null,
      "outputs": []
    },
    {
      "cell_type": "code",
      "metadata": {
        "id": "T3aGYu1qYeLQ"
      },
      "source": [
        "        product_box = parser.findAll(class_=\"product-item\")"
      ],
      "execution_count": null,
      "outputs": []
    },
    {
      "cell_type": "code",
      "metadata": {
        "id": "8SW94M174l9C"
      },
      "source": [
        "\n",
        "def crawl_product_id():\n",
        "    product_list = []\n",
        "    i = 1\n",
        "    while (True):\n",
        "        print(\"Crawl page: {} {}\".format(i, name))\n",
        "        response = requests.get(laptop_page_url.format(i))\n",
        "        parser = BeautifulSoup(response.text, 'html.parser')\n",
        "\n",
        "        product_box = parser.findAll(class_=\"product-item\")\n",
        "\n",
        "        if (len(product_box) == 0):\n",
        "            break\n",
        "\n",
        "        for product in product_box:\n",
        "            product_list.append(product.get(\"data-id\"))\n",
        "\n",
        "        i += 1\n",
        "        if (i == 2):\n",
        "          break\n",
        "\n",
        "\n",
        "    return product_list, i\n",
        "\n",
        "def save_product_id(product_list=[]):\n",
        "    file = open(product_id_file, \"w+\")\n",
        "    str = \"\\n\".join(product_list)\n",
        "    file.write(str)\n",
        "    file.close()\n",
        "    print(\"Save file: \", product_id_file)\n",
        "\n",
        "def crawl_product(product_list=[]):\n",
        "    product_detail_list = []\n",
        "    for product_id in product_list:\n",
        "        response = requests.get(product_url.format(product_id))\n",
        "        if (response.status_code == 200):\n",
        "            product_detail_list.append(response.text)\n",
        "            print(\"Crawl product: \", product_id, \": \", response.status_code)\n",
        "    return product_detail_list\n"
      ],
      "execution_count": null,
      "outputs": []
    },
    {
      "cell_type": "code",
      "metadata": {
        "id": "xIJthTPdUyIm"
      },
      "source": [
        "types = 'chamsocdamat'"
      ],
      "execution_count": null,
      "outputs": []
    },
    {
      "cell_type": "code",
      "metadata": {
        "id": "CjbnZ-PV7LJ5",
        "outputId": "32a5f8c8-63aa-4761-ae2b-00a107ab906b",
        "colab": {
          "base_uri": "https://localhost:8080/",
          "height": 745
        }
      },
      "source": [
        "for name in names:\n",
        "  for i in range(1,22):\n",
        "    laptop_page_url = \"https://tiki.vn/cham-soc-da-mat/c1582?src=c.1520.hamburger_menu_fly_out_banner&order=top_seller&page=\" + str(i) \n",
        "    product_id_file = \"/content/drive/My Drive/clone_cmt_tiki/id_product/\" + name + str(i) + \"_id.txt\"\n",
        "    product_list, page = crawl_product_id()\n",
        "    save_product_id(product_list)"
      ],
      "execution_count": null,
      "outputs": [
        {
          "output_type": "stream",
          "text": [
            "Crawl page: 1 chamsocdamat\n",
            "Save file:  /content/drive/My Drive/clone_cmt_tiki/id_product/chamsocdamat1_id.txt\n",
            "Crawl page: 1 chamsocdamat\n",
            "Save file:  /content/drive/My Drive/clone_cmt_tiki/id_product/chamsocdamat2_id.txt\n",
            "Crawl page: 1 chamsocdamat\n",
            "Save file:  /content/drive/My Drive/clone_cmt_tiki/id_product/chamsocdamat3_id.txt\n",
            "Crawl page: 1 chamsocdamat\n",
            "Save file:  /content/drive/My Drive/clone_cmt_tiki/id_product/chamsocdamat4_id.txt\n",
            "Crawl page: 1 chamsocdamat\n",
            "Save file:  /content/drive/My Drive/clone_cmt_tiki/id_product/chamsocdamat5_id.txt\n",
            "Crawl page: 1 chamsocdamat\n",
            "Save file:  /content/drive/My Drive/clone_cmt_tiki/id_product/chamsocdamat6_id.txt\n",
            "Crawl page: 1 chamsocdamat\n",
            "Save file:  /content/drive/My Drive/clone_cmt_tiki/id_product/chamsocdamat7_id.txt\n",
            "Crawl page: 1 chamsocdamat\n",
            "Save file:  /content/drive/My Drive/clone_cmt_tiki/id_product/chamsocdamat8_id.txt\n",
            "Crawl page: 1 chamsocdamat\n",
            "Save file:  /content/drive/My Drive/clone_cmt_tiki/id_product/chamsocdamat9_id.txt\n",
            "Crawl page: 1 chamsocdamat\n",
            "Save file:  /content/drive/My Drive/clone_cmt_tiki/id_product/chamsocdamat10_id.txt\n",
            "Crawl page: 1 chamsocdamat\n",
            "Save file:  /content/drive/My Drive/clone_cmt_tiki/id_product/chamsocdamat11_id.txt\n",
            "Crawl page: 1 chamsocdamat\n",
            "Save file:  /content/drive/My Drive/clone_cmt_tiki/id_product/chamsocdamat12_id.txt\n",
            "Crawl page: 1 chamsocdamat\n",
            "Save file:  /content/drive/My Drive/clone_cmt_tiki/id_product/chamsocdamat13_id.txt\n",
            "Crawl page: 1 chamsocdamat\n",
            "Save file:  /content/drive/My Drive/clone_cmt_tiki/id_product/chamsocdamat14_id.txt\n",
            "Crawl page: 1 chamsocdamat\n",
            "Save file:  /content/drive/My Drive/clone_cmt_tiki/id_product/chamsocdamat15_id.txt\n",
            "Crawl page: 1 chamsocdamat\n",
            "Save file:  /content/drive/My Drive/clone_cmt_tiki/id_product/chamsocdamat16_id.txt\n",
            "Crawl page: 1 chamsocdamat\n",
            "Save file:  /content/drive/My Drive/clone_cmt_tiki/id_product/chamsocdamat17_id.txt\n",
            "Crawl page: 1 chamsocdamat\n",
            "Save file:  /content/drive/My Drive/clone_cmt_tiki/id_product/chamsocdamat18_id.txt\n",
            "Crawl page: 1 chamsocdamat\n",
            "Save file:  /content/drive/My Drive/clone_cmt_tiki/id_product/chamsocdamat19_id.txt\n",
            "Crawl page: 1 chamsocdamat\n",
            "Save file:  /content/drive/My Drive/clone_cmt_tiki/id_product/chamsocdamat20_id.txt\n",
            "Crawl page: 1 chamsocdamat\n",
            "Save file:  /content/drive/My Drive/clone_cmt_tiki/id_product/chamsocdamat21_id.txt\n"
          ],
          "name": "stdout"
        }
      ]
    },
    {
      "cell_type": "code",
      "metadata": {
        "id": "1hDfCv-qAHKQ"
      },
      "source": [
        "list_data = []\n",
        "def get_dict_from_id_list(df):\n",
        "  for id in df[0]:\n",
        "    url = 'https://tiki.vn/api/v2/reviews?product_id=' + str(id) + \"&sort=score%7Cdesc,id%7Cdesc,stars%7Call&page=1&limit=10&include=comments\"\n",
        "    response = urllib.request.urlopen(url)\n",
        "    data = json.loads(response.read())\n",
        "    list_data.append(data)\n",
        "  return list_data"
      ],
      "execution_count": null,
      "outputs": []
    },
    {
      "cell_type": "code",
      "metadata": {
        "id": "UlQIKEMB4959"
      },
      "source": [
        "names = ['giay+cao+got', 'sach+giao+khoa', 'truyện+tranh', 'ao+somi', 'do+dung+hoc+tap',\n",
        "         'mu+bao+hiem', 'hoodie', 'ao+len', 'tat', 'tai+nghe+bluetooth', 'tinh+dầu', 'balo', 'quan+au', 'noi+com+dien', \"kho+ga\", \"laptop\"\n",
        "         , 'tã+quần', 'bột+giặt', 'bàn+học', 'đèn+học', 'lăn+khử+mùi', 'nước+hoa']"
      ],
      "execution_count": null,
      "outputs": []
    },
    {
      "cell_type": "code",
      "metadata": {
        "id": "mil5jbNW5Aye"
      },
      "source": [
        "incompleteread = ['tinh+dầu', 'noi+com+dien']"
      ],
      "execution_count": null,
      "outputs": []
    },
    {
      "cell_type": "code",
      "metadata": {
        "id": "mVK1gauAPsK6"
      },
      "source": [
        "names = ['tinh+dầu']"
      ],
      "execution_count": null,
      "outputs": []
    },
    {
      "cell_type": "code",
      "metadata": {
        "id": "49JlucrP3q4h",
        "outputId": "d9ac8d64-343f-4084-f2f7-953a0740eb62",
        "colab": {
          "base_uri": "https://localhost:8080/",
          "height": 381
        }
      },
      "source": [
        "for name in names:\n",
        "  for i in range(1, 22):\n",
        "    contents = []\n",
        "    titles = []\n",
        "    ratings = []\n",
        "    product_id_file = \"/content/drive/My Drive/clone_cmt_tiki/id_product/\" + name + str(i) + \"_id.txt\"\n",
        "    df = pd.read_csv(product_id_file, header=None)\n",
        "    list_data_loop = get_dict_from_id_list(df)\n",
        "    for data in list_data_loop:\n",
        "      for dict_ in data['data']:\n",
        "        for key, value in dict_.items():\n",
        "          if key == 'content':\n",
        "            contents.append(value)\n",
        "          if key == 'rating':\n",
        "            ratings.append(value)\n",
        "          if key == 'title':\n",
        "            titles.append(value)\n",
        "    data_save = pd.DataFrame({'ratings': ratings, 'titles': titles, 'comments': contents})\n",
        "    data_frame_notna = data_save.dropna()\n",
        "    path = \"/content/drive/My Drive/clone_cmt_tiki/data_csv/\" + name + str(i) + \".csv\"\n",
        "    data_frame_notna.to_csv(path, index=False)\n",
        "    print(\"Saved \", name)\n"
      ],
      "execution_count": null,
      "outputs": [
        {
          "output_type": "stream",
          "text": [
            "Saved  chamsocdamat\n",
            "Saved  chamsocdamat\n",
            "Saved  chamsocdamat\n",
            "Saved  chamsocdamat\n",
            "Saved  chamsocdamat\n",
            "Saved  chamsocdamat\n",
            "Saved  chamsocdamat\n",
            "Saved  chamsocdamat\n",
            "Saved  chamsocdamat\n",
            "Saved  chamsocdamat\n",
            "Saved  chamsocdamat\n",
            "Saved  chamsocdamat\n",
            "Saved  chamsocdamat\n",
            "Saved  chamsocdamat\n",
            "Saved  chamsocdamat\n",
            "Saved  chamsocdamat\n",
            "Saved  chamsocdamat\n",
            "Saved  chamsocdamat\n",
            "Saved  chamsocdamat\n",
            "Saved  chamsocdamat\n",
            "Saved  chamsocdamat\n"
          ],
          "name": "stdout"
        }
      ]
    },
    {
      "cell_type": "code",
      "metadata": {
        "id": "M2WDPgWS9MJI"
      },
      "source": [
        "#save data as csv file\n",
        "path = '/content/drive/My Drive/devC/clone_data/data_comment_tiki/' + name + '1' + '.csv'\n",
        "data_frame_notna.to_csv(path, index=False)"
      ],
      "execution_count": null,
      "outputs": []
    }
  ]
}