{
  "nbformat": 4,
  "nbformat_minor": 0,
  "metadata": {
    "colab": {
      "name": "scrapingweb_tikicomment.ipynb",
      "provenance": [],
      "mount_file_id": "1F3rWI40qIE1ZZQMOaSI5jOuUM1C6hhaa",
      "authorship_tag": "ABX9TyOUm5UTHvA5Ty18JUvT/jdQ",
      "include_colab_link": true
    },
    "kernelspec": {
      "name": "python3",
      "display_name": "Python 3"
    },
    "accelerator": "GPU"
  },
  "cells": [
    {
      "cell_type": "markdown",
      "metadata": {
        "id": "view-in-github",
        "colab_type": "text"
      },
      "source": [
        "<a href=\"https://colab.research.google.com/github/hoangducsn00/webScrape_tiki/blob/main/scrapingweb_tikicomment_1-2.ipynb\" target=\"_parent\"><img src=\"https://colab.research.google.com/assets/colab-badge.svg\" alt=\"Open In Colab\"/></a>"
      ]
    },
    {
      "cell_type": "code",
      "metadata": {
        "id": "d-V16xjL24Y-",
        "outputId": "16b85db5-81a2-494e-8652-db9dbd65bf13",
        "colab": {
          "base_uri": "https://localhost:8080/",
          "height": 87
        }
      },
      "source": [
        "%cd /content/drive/My Drive/devC/clone_data\n",
        "!ls"
      ],
      "execution_count": null,
      "outputs": [
        {
          "output_type": "stream",
          "text": [
            "/content/drive/My Drive/devC/clone_data\n",
            " crawl-tiki-products  ' SCRAPE DYNAMIC websites.ipynb'\n",
            " data\t\t       scrapingweb_tikicomment.ipynb\n",
            " data_comment_tiki\n"
          ],
          "name": "stdout"
        }
      ]
    },
    {
      "cell_type": "code",
      "metadata": {
        "id": "9Uq37SA459Is"
      },
      "source": [
        "#import library\n",
        "from bs4 import BeautifulSoup\n",
        "import requests\n",
        "import json\n",
        "import csv\n",
        "import pandas as pd\n",
        "import urllib, json"
      ],
      "execution_count": null,
      "outputs": []
    },
    {
      "cell_type": "code",
      "metadata": {
        "id": "vfX5RCil6XjY"
      },
      "source": [
        "names = ['ao+dai', 'giay+the+thao', 'giay+nam', 'giay+cao+got', 'sach+giao+khoa', 'truyện+tranh', 'ao+somi', 'do+dung+hoc+tap',\n",
        "         'mu+bao+hiem', 'hoodie', 'ao+len', 'tat', 'tai+nghe+bluetooth', 'tinh+dầu', 'balo', 'quan+au', 'noi+com+dien', \"kho+ga\", \"laptop\"\n",
        "         , 'tã+quần', 'bột+giặt', 'bàn+học', 'đèn+học', 'lăn+khử+mùi', 'nước+hoa']"
      ],
      "execution_count": null,
      "outputs": []
    },
    {
      "cell_type": "code",
      "metadata": {
        "id": "8SW94M174l9C"
      },
      "source": [
        "\n",
        "def crawl_product_id():\n",
        "    product_list = []\n",
        "    i = 1\n",
        "    while (True):\n",
        "        print(\"Crawl page: {} {}\".format(i, name))\n",
        "        response = requests.get(laptop_page_url.format(i))\n",
        "        parser = BeautifulSoup(response.text, 'html.parser')\n",
        "\n",
        "        product_box = parser.findAll(class_=\"product-item\")\n",
        "\n",
        "        if (len(product_box) == 0):\n",
        "            break\n",
        "\n",
        "        for product in product_box:\n",
        "            product_list.append(product.get(\"data-id\"))\n",
        "\n",
        "        i += 1\n",
        "        if (i == 2):\n",
        "          break\n",
        "\n",
        "\n",
        "    return product_list, i\n",
        "\n",
        "def save_product_id(product_list=[]):\n",
        "    file = open(product_id_file, \"w+\")\n",
        "    str = \"\\n\".join(product_list)\n",
        "    file.write(str)\n",
        "    file.close()\n",
        "    print(\"Save file: \", product_id_file)\n",
        "\n",
        "def crawl_product(product_list=[]):\n",
        "    product_detail_list = []\n",
        "    for product_id in product_list:\n",
        "        response = requests.get(product_url.format(product_id))\n",
        "        if (response.status_code == 200):\n",
        "            product_detail_list.append(response.text)\n",
        "            print(\"Crawl product: \", product_id, \": \", response.status_code)\n",
        "    return product_detail_list\n",
        "\n"
      ],
      "execution_count": null,
      "outputs": []
    },
    {
      "cell_type": "code",
      "metadata": {
        "id": "CjbnZ-PV7LJ5",
        "outputId": "3f1d6f0d-842b-4ba4-abad-51b1012d1c78",
        "colab": {
          "base_uri": "https://localhost:8080/",
          "height": 1000
        }
      },
      "source": [
        "for name in names:\n",
        "  for i in range(1,4):\n",
        "    laptop_page_url = \"https://tiki.vn/search?q=\" + name + '&order=top_seller&page=' + str(i)\n",
        "    product_url = \"https://tiki.vn/search?q=\" + name\n",
        "    product_id_file = \"/content/drive/My Drive/clone_cmt_tiki/id_product/\" + name + str(i) + \"_id.txt\"\n",
        "    product_list, page = crawl_product_id()\n",
        "    save_product_id(product_list)"
      ],
      "execution_count": null,
      "outputs": [
        {
          "output_type": "stream",
          "text": [
            "Crawl page: 1 ao+dai\n",
            "Save file:  /content/drive/My Drive/clone_cmt_tiki/id_product/ao+dai1_id.txt\n",
            "Crawl page: 1 ao+dai\n",
            "Save file:  /content/drive/My Drive/clone_cmt_tiki/id_product/ao+dai2_id.txt\n",
            "Crawl page: 1 ao+dai\n",
            "Save file:  /content/drive/My Drive/clone_cmt_tiki/id_product/ao+dai3_id.txt\n",
            "Crawl page: 1 giay+the+thao\n",
            "Save file:  /content/drive/My Drive/clone_cmt_tiki/id_product/giay+the+thao1_id.txt\n",
            "Crawl page: 1 giay+the+thao\n",
            "Save file:  /content/drive/My Drive/clone_cmt_tiki/id_product/giay+the+thao2_id.txt\n",
            "Crawl page: 1 giay+the+thao\n",
            "Save file:  /content/drive/My Drive/clone_cmt_tiki/id_product/giay+the+thao3_id.txt\n",
            "Crawl page: 1 giay+nam\n",
            "Save file:  /content/drive/My Drive/clone_cmt_tiki/id_product/giay+nam1_id.txt\n",
            "Crawl page: 1 giay+nam\n",
            "Save file:  /content/drive/My Drive/clone_cmt_tiki/id_product/giay+nam2_id.txt\n",
            "Crawl page: 1 giay+nam\n",
            "Save file:  /content/drive/My Drive/clone_cmt_tiki/id_product/giay+nam3_id.txt\n",
            "Crawl page: 1 giay+cao+got\n",
            "Save file:  /content/drive/My Drive/clone_cmt_tiki/id_product/giay+cao+got1_id.txt\n",
            "Crawl page: 1 giay+cao+got\n",
            "Save file:  /content/drive/My Drive/clone_cmt_tiki/id_product/giay+cao+got2_id.txt\n",
            "Crawl page: 1 giay+cao+got\n",
            "Save file:  /content/drive/My Drive/clone_cmt_tiki/id_product/giay+cao+got3_id.txt\n",
            "Crawl page: 1 sach+giao+khoa\n",
            "Save file:  /content/drive/My Drive/clone_cmt_tiki/id_product/sach+giao+khoa1_id.txt\n",
            "Crawl page: 1 sach+giao+khoa\n",
            "Save file:  /content/drive/My Drive/clone_cmt_tiki/id_product/sach+giao+khoa2_id.txt\n",
            "Crawl page: 1 sach+giao+khoa\n",
            "Save file:  /content/drive/My Drive/clone_cmt_tiki/id_product/sach+giao+khoa3_id.txt\n",
            "Crawl page: 1 truyện+tranh\n",
            "Save file:  /content/drive/My Drive/clone_cmt_tiki/id_product/truyện+tranh1_id.txt\n",
            "Crawl page: 1 truyện+tranh\n",
            "Save file:  /content/drive/My Drive/clone_cmt_tiki/id_product/truyện+tranh2_id.txt\n",
            "Crawl page: 1 truyện+tranh\n",
            "Save file:  /content/drive/My Drive/clone_cmt_tiki/id_product/truyện+tranh3_id.txt\n",
            "Crawl page: 1 ao+somi\n",
            "Save file:  /content/drive/My Drive/clone_cmt_tiki/id_product/ao+somi1_id.txt\n",
            "Crawl page: 1 ao+somi\n",
            "Save file:  /content/drive/My Drive/clone_cmt_tiki/id_product/ao+somi2_id.txt\n",
            "Crawl page: 1 ao+somi\n",
            "Save file:  /content/drive/My Drive/clone_cmt_tiki/id_product/ao+somi3_id.txt\n",
            "Crawl page: 1 do+dung+hoc+tap\n",
            "Save file:  /content/drive/My Drive/clone_cmt_tiki/id_product/do+dung+hoc+tap1_id.txt\n",
            "Crawl page: 1 do+dung+hoc+tap\n",
            "Save file:  /content/drive/My Drive/clone_cmt_tiki/id_product/do+dung+hoc+tap2_id.txt\n",
            "Crawl page: 1 do+dung+hoc+tap\n",
            "Save file:  /content/drive/My Drive/clone_cmt_tiki/id_product/do+dung+hoc+tap3_id.txt\n",
            "Crawl page: 1 mu+bao+hiem\n",
            "Save file:  /content/drive/My Drive/clone_cmt_tiki/id_product/mu+bao+hiem1_id.txt\n",
            "Crawl page: 1 mu+bao+hiem\n",
            "Save file:  /content/drive/My Drive/clone_cmt_tiki/id_product/mu+bao+hiem2_id.txt\n",
            "Crawl page: 1 mu+bao+hiem\n",
            "Save file:  /content/drive/My Drive/clone_cmt_tiki/id_product/mu+bao+hiem3_id.txt\n",
            "Crawl page: 1 hoodie\n",
            "Save file:  /content/drive/My Drive/clone_cmt_tiki/id_product/hoodie1_id.txt\n",
            "Crawl page: 1 hoodie\n",
            "Save file:  /content/drive/My Drive/clone_cmt_tiki/id_product/hoodie2_id.txt\n",
            "Crawl page: 1 hoodie\n",
            "Save file:  /content/drive/My Drive/clone_cmt_tiki/id_product/hoodie3_id.txt\n",
            "Crawl page: 1 ao+len\n",
            "Save file:  /content/drive/My Drive/clone_cmt_tiki/id_product/ao+len1_id.txt\n",
            "Crawl page: 1 ao+len\n",
            "Save file:  /content/drive/My Drive/clone_cmt_tiki/id_product/ao+len2_id.txt\n",
            "Crawl page: 1 ao+len\n",
            "Save file:  /content/drive/My Drive/clone_cmt_tiki/id_product/ao+len3_id.txt\n",
            "Crawl page: 1 tat\n",
            "Save file:  /content/drive/My Drive/clone_cmt_tiki/id_product/tat1_id.txt\n",
            "Crawl page: 1 tat\n",
            "Save file:  /content/drive/My Drive/clone_cmt_tiki/id_product/tat2_id.txt\n",
            "Crawl page: 1 tat\n",
            "Save file:  /content/drive/My Drive/clone_cmt_tiki/id_product/tat3_id.txt\n",
            "Crawl page: 1 tai+nghe+bluetooth\n",
            "Save file:  /content/drive/My Drive/clone_cmt_tiki/id_product/tai+nghe+bluetooth1_id.txt\n",
            "Crawl page: 1 tai+nghe+bluetooth\n",
            "Save file:  /content/drive/My Drive/clone_cmt_tiki/id_product/tai+nghe+bluetooth2_id.txt\n",
            "Crawl page: 1 tai+nghe+bluetooth\n",
            "Save file:  /content/drive/My Drive/clone_cmt_tiki/id_product/tai+nghe+bluetooth3_id.txt\n",
            "Crawl page: 1 tinh+dầu\n",
            "Save file:  /content/drive/My Drive/clone_cmt_tiki/id_product/tinh+dầu1_id.txt\n",
            "Crawl page: 1 tinh+dầu\n",
            "Save file:  /content/drive/My Drive/clone_cmt_tiki/id_product/tinh+dầu2_id.txt\n",
            "Crawl page: 1 tinh+dầu\n",
            "Save file:  /content/drive/My Drive/clone_cmt_tiki/id_product/tinh+dầu3_id.txt\n",
            "Crawl page: 1 balo\n",
            "Save file:  /content/drive/My Drive/clone_cmt_tiki/id_product/balo1_id.txt\n",
            "Crawl page: 1 balo\n",
            "Save file:  /content/drive/My Drive/clone_cmt_tiki/id_product/balo2_id.txt\n",
            "Crawl page: 1 balo\n",
            "Save file:  /content/drive/My Drive/clone_cmt_tiki/id_product/balo3_id.txt\n",
            "Crawl page: 1 quan+au\n",
            "Save file:  /content/drive/My Drive/clone_cmt_tiki/id_product/quan+au1_id.txt\n",
            "Crawl page: 1 quan+au\n",
            "Save file:  /content/drive/My Drive/clone_cmt_tiki/id_product/quan+au2_id.txt\n",
            "Crawl page: 1 quan+au\n",
            "Save file:  /content/drive/My Drive/clone_cmt_tiki/id_product/quan+au3_id.txt\n",
            "Crawl page: 1 noi+com+dien\n",
            "Save file:  /content/drive/My Drive/clone_cmt_tiki/id_product/noi+com+dien1_id.txt\n",
            "Crawl page: 1 noi+com+dien\n",
            "Save file:  /content/drive/My Drive/clone_cmt_tiki/id_product/noi+com+dien2_id.txt\n",
            "Crawl page: 1 noi+com+dien\n",
            "Save file:  /content/drive/My Drive/clone_cmt_tiki/id_product/noi+com+dien3_id.txt\n",
            "Crawl page: 1 kho+ga\n",
            "Save file:  /content/drive/My Drive/clone_cmt_tiki/id_product/kho+ga1_id.txt\n",
            "Crawl page: 1 kho+ga\n",
            "Save file:  /content/drive/My Drive/clone_cmt_tiki/id_product/kho+ga2_id.txt\n",
            "Crawl page: 1 kho+ga\n",
            "Save file:  /content/drive/My Drive/clone_cmt_tiki/id_product/kho+ga3_id.txt\n",
            "Crawl page: 1 laptop\n",
            "Save file:  /content/drive/My Drive/clone_cmt_tiki/id_product/laptop1_id.txt\n",
            "Crawl page: 1 laptop\n",
            "Save file:  /content/drive/My Drive/clone_cmt_tiki/id_product/laptop2_id.txt\n",
            "Crawl page: 1 laptop\n",
            "Save file:  /content/drive/My Drive/clone_cmt_tiki/id_product/laptop3_id.txt\n",
            "Crawl page: 1 tã+quần\n",
            "Save file:  /content/drive/My Drive/clone_cmt_tiki/id_product/tã+quần1_id.txt\n",
            "Crawl page: 1 tã+quần\n",
            "Save file:  /content/drive/My Drive/clone_cmt_tiki/id_product/tã+quần2_id.txt\n",
            "Crawl page: 1 tã+quần\n",
            "Save file:  /content/drive/My Drive/clone_cmt_tiki/id_product/tã+quần3_id.txt\n",
            "Crawl page: 1 bột+giặt\n",
            "Save file:  /content/drive/My Drive/clone_cmt_tiki/id_product/bột+giặt1_id.txt\n",
            "Crawl page: 1 bột+giặt\n",
            "Save file:  /content/drive/My Drive/clone_cmt_tiki/id_product/bột+giặt2_id.txt\n",
            "Crawl page: 1 bột+giặt\n",
            "Save file:  /content/drive/My Drive/clone_cmt_tiki/id_product/bột+giặt3_id.txt\n",
            "Crawl page: 1 bàn+học\n",
            "Save file:  /content/drive/My Drive/clone_cmt_tiki/id_product/bàn+học1_id.txt\n",
            "Crawl page: 1 bàn+học\n",
            "Save file:  /content/drive/My Drive/clone_cmt_tiki/id_product/bàn+học2_id.txt\n",
            "Crawl page: 1 bàn+học\n",
            "Save file:  /content/drive/My Drive/clone_cmt_tiki/id_product/bàn+học3_id.txt\n",
            "Crawl page: 1 đèn+học\n",
            "Save file:  /content/drive/My Drive/clone_cmt_tiki/id_product/đèn+học1_id.txt\n",
            "Crawl page: 1 đèn+học\n",
            "Save file:  /content/drive/My Drive/clone_cmt_tiki/id_product/đèn+học2_id.txt\n",
            "Crawl page: 1 đèn+học\n",
            "Save file:  /content/drive/My Drive/clone_cmt_tiki/id_product/đèn+học3_id.txt\n",
            "Crawl page: 1 lăn+khử+mùi\n",
            "Save file:  /content/drive/My Drive/clone_cmt_tiki/id_product/lăn+khử+mùi1_id.txt\n",
            "Crawl page: 1 lăn+khử+mùi\n",
            "Save file:  /content/drive/My Drive/clone_cmt_tiki/id_product/lăn+khử+mùi2_id.txt\n",
            "Crawl page: 1 lăn+khử+mùi\n",
            "Save file:  /content/drive/My Drive/clone_cmt_tiki/id_product/lăn+khử+mùi3_id.txt\n",
            "Crawl page: 1 nước+hoa\n",
            "Save file:  /content/drive/My Drive/clone_cmt_tiki/id_product/nước+hoa1_id.txt\n",
            "Crawl page: 1 nước+hoa\n",
            "Save file:  /content/drive/My Drive/clone_cmt_tiki/id_product/nước+hoa2_id.txt\n",
            "Crawl page: 1 nước+hoa\n",
            "Save file:  /content/drive/My Drive/clone_cmt_tiki/id_product/nước+hoa3_id.txt\n"
          ],
          "name": "stdout"
        }
      ]
    },
    {
      "cell_type": "code",
      "metadata": {
        "id": "1hDfCv-qAHKQ"
      },
      "source": [
        "list_data = []\n",
        "def get_dict_from_id_list(df):\n",
        "  for id in df[0]:\n",
        "    url = 'https://tiki.vn/api/v2/reviews?product_id=' + str(id) + \"&sort=score%7Cdesc,id%7Cdesc,stars%7Call&page=1&limit=10&include=comments\"\n",
        "    response = urllib.request.urlopen(url)\n",
        "    data = json.loads(response.read())\n",
        "    list_data.append(data)\n",
        "  return list_data"
      ],
      "execution_count": null,
      "outputs": []
    },
    {
      "cell_type": "code",
      "metadata": {
        "id": "UlQIKEMB4959"
      },
      "source": [
        "names = ['giay+cao+got', 'sach+giao+khoa', 'truyện+tranh', 'ao+somi', 'do+dung+hoc+tap',\n",
        "         'mu+bao+hiem', 'hoodie', 'ao+len', 'tat', 'tai+nghe+bluetooth', 'tinh+dầu', 'balo', 'quan+au', 'noi+com+dien', \"kho+ga\", \"laptop\"\n",
        "         , 'tã+quần', 'bột+giặt', 'bàn+học', 'đèn+học', 'lăn+khử+mùi', 'nước+hoa']"
      ],
      "execution_count": null,
      "outputs": []
    },
    {
      "cell_type": "code",
      "metadata": {
        "id": "mil5jbNW5Aye"
      },
      "source": [
        "incompleteread = ['tinh+dầu', 'noi+com+dien']"
      ],
      "execution_count": null,
      "outputs": []
    },
    {
      "cell_type": "code",
      "metadata": {
        "id": "mVK1gauAPsK6"
      },
      "source": [
        "names = ['tinh+dầu']"
      ],
      "execution_count": null,
      "outputs": []
    },
    {
      "cell_type": "code",
      "metadata": {
        "id": "49JlucrP3q4h",
        "outputId": "b5eb7959-170b-471a-d02a-4b188f268e02",
        "colab": {
          "base_uri": "https://localhost:8080/",
          "height": 69
        }
      },
      "source": [
        "for name in names:\n",
        "  for i in range(1,4):\n",
        "    contents = []\n",
        "    titles = []\n",
        "    ratings = []\n",
        "    product_id_file = \"/content/drive/My Drive/clone_cmt_tiki/id_product/\" + name + str(i) + \"_id.txt\"\n",
        "    df = pd.read_csv(product_id_file, header=None)\n",
        "    list_data_loop = get_dict_from_id_list(df)\n",
        "    for data in list_data_loop:\n",
        "      for dict_ in data['data']:\n",
        "        for key, value in dict_.items():\n",
        "          if key == 'content':\n",
        "            contents.append(value)\n",
        "          if key == 'rating':\n",
        "            ratings.append(value)\n",
        "          if key == 'title':\n",
        "            titles.append(value)\n",
        "    data_save = pd.DataFrame({'ratings': ratings, 'titles': titles, 'comments': contents})\n",
        "    data_frame_notna = data_save.dropna()\n",
        "    path = \"/content/drive/My Drive/clone_cmt_tiki/data_csv/\" + name + str(i) + \".csv\"\n",
        "    data_frame_notna.to_csv(path, index=False)\n",
        "    print(\"Saved \", name)\n"
      ],
      "execution_count": null,
      "outputs": [
        {
          "output_type": "stream",
          "text": [
            "Saved  tinh+dầu\n",
            "Saved  tinh+dầu\n",
            "Saved  tinh+dầu\n"
          ],
          "name": "stdout"
        }
      ]
    },
    {
      "cell_type": "code",
      "metadata": {
        "id": "M2WDPgWS9MJI"
      },
      "source": [
        "#save data as csv file\n",
        "path = '/content/drive/My Drive/devC/clone_data/data_comment_tiki/' + name + '1' + '.csv'\n",
        "data_frame_notna.to_csv(path, index=False)"
      ],
      "execution_count": null,
      "outputs": []
    }
  ]
}